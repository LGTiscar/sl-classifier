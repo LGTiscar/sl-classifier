{
 "cells": [
  {
   "cell_type": "markdown",
   "source": [
    "# IMPORTS"
   ],
   "metadata": {}
  },
  {
   "cell_type": "code",
   "execution_count": 1,
   "source": [
    "import cv2\r\n",
    "import numpy as np\r\n",
    "import os\r\n",
    "from matplotlib import pyplot as plt\r\n",
    "import time\r\n",
    "import mediapipe as mp\r\n",
    "from sklearn.model_selection import train_test_split\r\n",
    "from tensorflow.keras.utils import to_categorical\r\n",
    "from tensorflow.keras.models import Sequential\r\n",
    "from tensorflow.keras.layers import LSTM, Dense\r\n",
    "from tensorflow.keras.callbacks import TensorBoard\r\n",
    "from tensorflow.keras.callbacks import ModelCheckpoint\r\n",
    "from tensorflow.keras.callbacks import EarlyStopping\r\n",
    "from sklearn.metrics import multilabel_confusion_matrix, accuracy_score\r\n"
   ],
   "outputs": [],
   "metadata": {}
  },
  {
   "cell_type": "code",
   "execution_count": 2,
   "source": [
    "mp_holistic = mp.solutions.holistic # Holistic model\r\n",
    "mp_drawing = mp.solutions.drawing_utils # Drawing utilities"
   ],
   "outputs": [],
   "metadata": {}
  },
  {
   "cell_type": "markdown",
   "source": [
    "# FUNCIONES"
   ],
   "metadata": {}
  },
  {
   "cell_type": "code",
   "execution_count": 3,
   "source": [
    "def mediapipe_detection(image, model):\r\n",
    "    image = cv2.cvtColor(image, cv2.COLOR_BGR2RGB) # COLOR CONVERSION BGR 2 RGB\r\n",
    "    image.flags.writeable = False                  # Image is no longer writeable\r\n",
    "    results = model.process(image)                 # Make prediction\r\n",
    "    image.flags.writeable = True                   # Image is now writeable \r\n",
    "    image = cv2.cvtColor(image, cv2.COLOR_RGB2BGR) # COLOR COVERSION RGB 2 BGR\r\n",
    "    return image, results\r\n",
    "\r\n",
    "def draw_landmarks(image, results):\r\n",
    "    mp_drawing.draw_landmarks(image, results.face_landmarks, mp_holistic.FACEMESH_CONTOURS) # Draw face connections\r\n",
    "    mp_drawing.draw_landmarks(image, results.pose_landmarks, mp_holistic.POSE_CONNECTIONS) # Draw pose connections\r\n",
    "    mp_drawing.draw_landmarks(image, results.left_hand_landmarks, mp_holistic.HAND_CONNECTIONS) # Draw left hand connections\r\n",
    "    mp_drawing.draw_landmarks(image, results.right_hand_landmarks, mp_holistic.HAND_CONNECTIONS) # Draw right hand connections\r\n",
    "    \r\n",
    "def draw_styled_landmarks(image, results):\r\n",
    "    # Draw face connections\r\n",
    "    mp_drawing.draw_landmarks(image, results.face_landmarks, mp_holistic.FACEMESH_CONTOURS, \r\n",
    "                             mp_drawing.DrawingSpec(color=(80,110,10), thickness=1, circle_radius=1), \r\n",
    "                             mp_drawing.DrawingSpec(color=(80,256,121), thickness=1, circle_radius=1)\r\n",
    "                             ) \r\n",
    "    # Draw pose connections\r\n",
    "    mp_drawing.draw_landmarks(image, results.pose_landmarks, mp_holistic.POSE_CONNECTIONS,\r\n",
    "                             mp_drawing.DrawingSpec(color=(80,22,10), thickness=2, circle_radius=4), \r\n",
    "                             mp_drawing.DrawingSpec(color=(80,44,121), thickness=2, circle_radius=2)\r\n",
    "                             ) \r\n",
    "    # Draw left hand connections\r\n",
    "    mp_drawing.draw_landmarks(image, results.left_hand_landmarks, mp_holistic.HAND_CONNECTIONS, \r\n",
    "                             mp_drawing.DrawingSpec(color=(121,22,76), thickness=2, circle_radius=4), \r\n",
    "                             mp_drawing.DrawingSpec(color=(121,44,250), thickness=2, circle_radius=2)\r\n",
    "                             ) \r\n",
    "    # Draw right hand connections  \r\n",
    "    mp_drawing.draw_landmarks(image, results.right_hand_landmarks, mp_holistic.HAND_CONNECTIONS, \r\n",
    "                             mp_drawing.DrawingSpec(color=(245,117,66), thickness=2, circle_radius=4), \r\n",
    "                             mp_drawing.DrawingSpec(color=(245,66,230), thickness=2, circle_radius=2)\r\n",
    "                             )\r\n",
    "\r\n",
    "def extract_keypoints(results):\r\n",
    "    pose = np.array([[res.x, res.y, res.z, res.visibility] for res in results.pose_landmarks.landmark]).flatten() if results.pose_landmarks else np.zeros(33*4)\r\n",
    "    face = np.array([[res.x, res.y, res.z] for res in results.face_landmarks.landmark]).flatten() if results.face_landmarks else np.zeros(468*3)\r\n",
    "    lh = np.array([[res.x, res.y, res.z] for res in results.left_hand_landmarks.landmark]).flatten() if results.left_hand_landmarks else np.zeros(21*3)\r\n",
    "    rh = np.array([[res.x, res.y, res.z] for res in results.right_hand_landmarks.landmark]).flatten() if results.right_hand_landmarks else np.zeros(21*3)\r\n",
    "    return np.concatenate([pose, face, lh, rh])\r\n",
    "\r\n",
    "\r\n",
    "def prob_viz(res, actions, input_frame):\r\n",
    "    colors = [(245,117,16), (117,245,16), (16,117,245)]\r\n",
    "    output_frame = input_frame.copy()\r\n",
    "    for num, prob in enumerate(res):\r\n",
    "        cv2.rectangle(output_frame, (0,60+num*40), (int(prob*100), 90+num*40), colors[num], -1)\r\n",
    "        cv2.putText(output_frame, actions[num], (0, 85+num*40), cv2.FONT_HERSHEY_SIMPLEX, 1, (255,255,255), 2, cv2.LINE_AA)\r\n",
    "        \r\n",
    "    return output_frame"
   ],
   "outputs": [],
   "metadata": {}
  },
  {
   "cell_type": "markdown",
   "source": [
    "# CAPTURA VIDEO"
   ],
   "metadata": {}
  },
  {
   "cell_type": "code",
   "execution_count": null,
   "source": [
    "cap = cv2.VideoCapture(0)\r\n",
    "# Set mediapipe model \r\n",
    "with mp_holistic.Holistic(min_detection_confidence=0.5, min_tracking_confidence=0.5) as holistic:\r\n",
    "    while cap.isOpened():\r\n",
    "\r\n",
    "        # Read feed\r\n",
    "        ret, frame = cap.read()\r\n",
    "        flip_img = cv2.flip(frame,1)\r\n",
    "\r\n",
    "        # Make detections\r\n",
    "        image, results = mediapipe_detection(flip_img, holistic)\r\n",
    "        print(results)\r\n",
    "        \r\n",
    "        # Draw landmarks\r\n",
    "        draw_styled_landmarks(image, results)\r\n",
    "\r\n",
    "        # Show to screen\r\n",
    "        cv2.imshow('OpenCV Feed', image)\r\n",
    "\r\n",
    "        # Break gracefully\r\n",
    "        if cv2.waitKey(10) & 0xFF == ord('q'):\r\n",
    "            break\r\n",
    "    cap.release()\r\n",
    "    cv2.destroyAllWindows()"
   ],
   "outputs": [],
   "metadata": {}
  },
  {
   "cell_type": "markdown",
   "source": [
    "# EXTRACCIÓN CARACERÍSTICAS"
   ],
   "metadata": {}
  },
  {
   "cell_type": "code",
   "execution_count": 6,
   "source": [
    "results"
   ],
   "outputs": [
    {
     "output_type": "execute_result",
     "data": {
      "text/plain": [
       "mediapipe.python.solution_base.SolutionOutputs"
      ]
     },
     "metadata": {},
     "execution_count": 6
    }
   ],
   "metadata": {}
  },
  {
   "cell_type": "code",
   "execution_count": 13,
   "source": [
    "result_test = extract_keypoints(results)"
   ],
   "outputs": [],
   "metadata": {}
  },
  {
   "cell_type": "markdown",
   "source": [
    "# CARPETAS"
   ],
   "metadata": {}
  },
  {
   "cell_type": "code",
   "execution_count": 4,
   "source": [
    "# Path for exported data, numpy arrays\r\n",
    "DATA_PATH = os.path.join('MP_Data') \r\n",
    "\r\n",
    "# Actions that we try to detect\r\n",
    "actions = np.array(['hello', 'thanks', 'iloveyou'])\r\n",
    "\r\n",
    "# Thirty videos worth of data\r\n",
    "no_sequences = 30\r\n",
    "\r\n",
    "# Videos are going to be 30 frames in length\r\n",
    "sequence_length = 30"
   ],
   "outputs": [],
   "metadata": {}
  },
  {
   "cell_type": "code",
   "execution_count": 5,
   "source": [
    "for action in actions: \r\n",
    "    for sequence in range(no_sequences):\r\n",
    "        try: \r\n",
    "            os.makedirs(os.path.join(DATA_PATH, action, str(sequence)))\r\n",
    "        except:\r\n",
    "            pass"
   ],
   "outputs": [],
   "metadata": {}
  },
  {
   "cell_type": "markdown",
   "source": [
    "# RECOPILACION VIDEOS"
   ],
   "metadata": {}
  },
  {
   "cell_type": "code",
   "execution_count": 6,
   "source": [
    "cap = cv2.VideoCapture(0)\r\n",
    "# Set mediapipe model \r\n",
    "with mp_holistic.Holistic(min_detection_confidence=0.5, min_tracking_confidence=0.5) as holistic:\r\n",
    "    \r\n",
    "    # NEW LOOP\r\n",
    "    # Loop through actions\r\n",
    "    for action in actions:\r\n",
    "        # Loop through sequences aka videos\r\n",
    "        for sequence in range(no_sequences):\r\n",
    "            # Loop through video length aka sequence length\r\n",
    "            for frame_num in range(sequence_length):\r\n",
    "\r\n",
    "                # Read feed\r\n",
    "                ret, frame = cap.read()\r\n",
    "                flip_img = cv2.flip(frame,1)\r\n",
    "\r\n",
    "                # Make detections\r\n",
    "                image, results = mediapipe_detection(frame, holistic)\r\n",
    "#                 print(results)\r\n",
    "\r\n",
    "                # Draw landmarks\r\n",
    "                draw_styled_landmarks(image, results)\r\n",
    "                \r\n",
    "                # NEW Apply wait logic\r\n",
    "                if frame_num == 0: \r\n",
    "                    cv2.putText(image, 'STARTING COLLECTION', (120,200), \r\n",
    "                               cv2.FONT_HERSHEY_SIMPLEX, 1, (0,255, 0), 4, cv2.LINE_AA)\r\n",
    "                    cv2.putText(image, 'Collecting frames for {} Video Number {}'.format(action, sequence), (15,12), \r\n",
    "                               cv2.FONT_HERSHEY_SIMPLEX, 0.5, (0, 0, 255), 1, cv2.LINE_AA)\r\n",
    "                    # Show to screen\r\n",
    "                    cv2.imshow('OpenCV Feed', image)\r\n",
    "                    cv2.waitKey(500)\r\n",
    "                else: \r\n",
    "                    cv2.putText(image, 'Collecting frames for {} Video Number {}'.format(action, sequence), (15,12), \r\n",
    "                               cv2.FONT_HERSHEY_SIMPLEX, 0.5, (0, 0, 255), 1, cv2.LINE_AA)\r\n",
    "                    # Show to screen\r\n",
    "                    cv2.imshow('OpenCV Feed', image)\r\n",
    "                \r\n",
    "                # NEW Export keypoints\r\n",
    "                keypoints = extract_keypoints(results)\r\n",
    "                npy_path = os.path.join(DATA_PATH, action, str(sequence), str(frame_num))\r\n",
    "                np.save(npy_path, keypoints)\r\n",
    "\r\n",
    "                # Break gracefully\r\n",
    "                if cv2.waitKey(10) & 0xFF == ord('q'):\r\n",
    "                    break\r\n",
    "                    \r\n",
    "    cap.release()\r\n",
    "    cv2.destroyAllWindows()"
   ],
   "outputs": [],
   "metadata": {}
  },
  {
   "cell_type": "markdown",
   "source": [
    "# SPLIT TRAIN TEST"
   ],
   "metadata": {}
  },
  {
   "cell_type": "code",
   "execution_count": 7,
   "source": [
    "label_map = {label:num for num, label in enumerate(actions)}\r\n",
    "label_map"
   ],
   "outputs": [
    {
     "output_type": "execute_result",
     "data": {
      "text/plain": [
       "{'hello': 0, 'thanks': 1, 'iloveyou': 2}"
      ]
     },
     "metadata": {},
     "execution_count": 7
    }
   ],
   "metadata": {}
  },
  {
   "cell_type": "code",
   "execution_count": 8,
   "source": [
    "\r\n",
    "sequences, labels = [], []\r\n",
    "\r\n",
    "for action in actions:\r\n",
    "    for sequence in range(no_sequences):\r\n",
    "        window = []\r\n",
    "        for frame_num in range(sequence_length):\r\n",
    "            res = np.load(os.path.join(DATA_PATH, action, str(sequence), \"{}.npy\".format(frame_num)))\r\n",
    "            window.append(res)\r\n",
    "        sequences.append(window)\r\n",
    "        labels.append(label_map[action])"
   ],
   "outputs": [],
   "metadata": {}
  },
  {
   "cell_type": "code",
   "execution_count": 9,
   "source": [
    "X = np.array(sequences)\r\n",
    "y = to_categorical(labels).astype(int)"
   ],
   "outputs": [],
   "metadata": {}
  },
  {
   "cell_type": "code",
   "execution_count": 10,
   "source": [
    "X_train, X_test, y_train, y_test = train_test_split(X, y, test_size=0.05,shuffle=True)"
   ],
   "outputs": [],
   "metadata": {}
  },
  {
   "cell_type": "markdown",
   "source": [
    "# MODEL CREATION"
   ],
   "metadata": {}
  },
  {
   "cell_type": "code",
   "execution_count": 28,
   "source": [
    "# Model type\r\n",
    "model = Sequential()\r\n",
    "\r\n",
    "# Layers\r\n",
    "model.add(LSTM(64, return_sequences=True, activation='relu', input_shape=(30,1662)))\r\n",
    "model.add(LSTM(128, return_sequences=True, activation='relu'))\r\n",
    "model.add(LSTM(64, return_sequences=False, activation='relu'))\r\n",
    "model.add(Dense(64, activation='relu'))\r\n",
    "model.add(Dense(32, activation='relu'))\r\n",
    "model.add(Dense(actions.shape[0], activation='softmax'))"
   ],
   "outputs": [],
   "metadata": {}
  },
  {
   "cell_type": "code",
   "execution_count": 29,
   "source": [
    "# Model compilation\r\n",
    "model.compile(optimizer='Adam', loss='categorical_crossentropy', metrics=['categorical_accuracy'])\r\n",
    "\r\n",
    "model.summary()"
   ],
   "outputs": [
    {
     "output_type": "stream",
     "name": "stdout",
     "text": [
      "Model: \"sequential_1\"\n",
      "_________________________________________________________________\n",
      "Layer (type)                 Output Shape              Param #   \n",
      "=================================================================\n",
      "lstm_3 (LSTM)                (None, 30, 64)            442112    \n",
      "_________________________________________________________________\n",
      "lstm_4 (LSTM)                (None, 30, 128)           98816     \n",
      "_________________________________________________________________\n",
      "lstm_5 (LSTM)                (None, 64)                49408     \n",
      "_________________________________________________________________\n",
      "dense_3 (Dense)              (None, 64)                4160      \n",
      "_________________________________________________________________\n",
      "dense_4 (Dense)              (None, 32)                2080      \n",
      "_________________________________________________________________\n",
      "dense_5 (Dense)              (None, 3)                 99        \n",
      "=================================================================\n",
      "Total params: 596,675\n",
      "Trainable params: 596,675\n",
      "Non-trainable params: 0\n",
      "_________________________________________________________________\n"
     ]
    }
   ],
   "metadata": {}
  },
  {
   "cell_type": "markdown",
   "source": [
    "## MODEL TRAINING"
   ],
   "metadata": {}
  },
  {
   "cell_type": "code",
   "execution_count": 21,
   "source": [
    "# UNCOMMENT THIS IS YOU WANNA LOAD THE WEIGHTS OF A PRETRAINED MODEL:\r\n",
    "\r\n",
    "#model.load_weights('Modelo\\model.h5')"
   ],
   "outputs": [],
   "metadata": {}
  },
  {
   "cell_type": "code",
   "execution_count": null,
   "source": [
    "log_dir = os.path.join('Logs')\r\n",
    "tb_callback = TensorBoard(log_dir=log_dir)\r\n",
    "\r\n",
    "checkpoint_filepath ='Modelo/model.h5'\r\n",
    "\r\n",
    "\r\n",
    "my_callbacks = [\r\n",
    "    ModelCheckpoint(\r\n",
    "        filepath=checkpoint_filepath,\r\n",
    "        save_weights_only=True,\r\n",
    "        monitor='categorical_accuracy',\r\n",
    "        mode='max',\r\n",
    "        save_best_only=True),\r\n",
    "    TensorBoard(log_dir=log_dir),\r\n",
    "    EarlyStopping(\r\n",
    "        monitor='categorical_accuracy',\r\n",
    "        min_delta=0.1,\r\n",
    "        patience=150,\r\n",
    "        verbose=1\r\n",
    "    )\r\n",
    "    \r\n",
    "]\r\n",
    "\r\n",
    "model.fit(X_train, y_train, epochs=700, callbacks=[my_callbacks])"
   ],
   "outputs": [],
   "metadata": {}
  },
  {
   "cell_type": "markdown",
   "source": [
    "## Predictions"
   ],
   "metadata": {}
  },
  {
   "cell_type": "code",
   "execution_count": 35,
   "source": [
    "res = model.predict(X_test)\r\n",
    "num=4\r\n",
    "print(f'This is the {num}th action label in X_test: \"{actions[np.argmax(res[num])]}\"')\r\n",
    "print(f'This is the {num}th action label in y_test: \"{actions[np.argmax(y_test[num])]}\"')\r\n"
   ],
   "outputs": [
    {
     "output_type": "stream",
     "name": "stdout",
     "text": [
      "This is the 4th action label in X_test: \"iloveyou\"\n",
      "This is the 4th action label in y_test: \"iloveyou\"\n"
     ]
    }
   ],
   "metadata": {}
  },
  {
   "cell_type": "markdown",
   "source": [
    "# METRICS"
   ],
   "metadata": {}
  },
  {
   "cell_type": "code",
   "execution_count": 34,
   "source": [
    "ytrue = np.argmax(y_test, axis=1).tolist()\r\n",
    "y_preds = np.argmax(res, axis=1).tolist()\r\n",
    "\r\n",
    "print('CONFUSION MATRIX: ')\r\n",
    "print(multilabel_confusion_matrix(ytrue, y_preds))\r\n",
    "\r\n",
    "print(f'ACCURACY SCORE IS:\\n {accuracy_score(ytrue, y_preds)*100}' + '%')\r\n"
   ],
   "outputs": [
    {
     "output_type": "stream",
     "name": "stdout",
     "text": [
      "CONFUSION MATRIX: \n",
      "[[[3 0]\n",
      "  [0 2]]\n",
      "\n",
      " [[2 0]\n",
      "  [0 3]]]\n",
      "ACCURACY SCORE IS:\n",
      " 100.0%\n"
     ]
    }
   ],
   "metadata": {}
  },
  {
   "cell_type": "markdown",
   "source": [
    "# FINAL LIVE PREDICTION"
   ],
   "metadata": {}
  },
  {
   "cell_type": "code",
   "execution_count": null,
   "source": [
    "# 1. New detection variables\r\n",
    "sequence = []\r\n",
    "sentence = []\r\n",
    "threshold = 0.8\r\n",
    "\r\n",
    "cap = cv2.VideoCapture(0)\r\n",
    "# Set mediapipe model \r\n",
    "with mp_holistic.Holistic(min_detection_confidence=0.5, min_tracking_confidence=0.5) as holistic:\r\n",
    "    while cap.isOpened():\r\n",
    "\r\n",
    "        # Read feed\r\n",
    "        ret, frame = cap.read()\r\n",
    "        flip_img = cv2.flip(frame,1)\r\n",
    "\r\n",
    "        # Make detections\r\n",
    "        image, results = mediapipe_detection(flip_img, holistic)\r\n",
    "        print(results)\r\n",
    "        \r\n",
    "        # Draw landmarks\r\n",
    "        draw_styled_landmarks(image, results)\r\n",
    "        \r\n",
    "        # 2. Prediction logic\r\n",
    "        keypoints = extract_keypoints(results)\r\n",
    "        sequence.append(keypoints)\r\n",
    "        sequence = sequence[-30:]\r\n",
    "        \r\n",
    "        if len(sequence) == 30:\r\n",
    "            res = model.predict(np.expand_dims(sequence, axis=0))[0]\r\n",
    "            print(actions[np.argmax(res)])\r\n",
    "            \r\n",
    "            \r\n",
    "        #3. Viz logic\r\n",
    "            if res[np.argmax(res)] > threshold: \r\n",
    "                if len(sentence) > 0: \r\n",
    "                    if actions[np.argmax(res)] != sentence[-1]:\r\n",
    "                        sentence.append(actions[np.argmax(res)])\r\n",
    "                else:\r\n",
    "                    sentence.append(actions[np.argmax(res)])\r\n",
    "\r\n",
    "            if len(sentence) > 5: \r\n",
    "                sentence = sentence[-5:]\r\n",
    "\r\n",
    "            # Viz probabilities\r\n",
    "            image = prob_viz(res, actions, image)\r\n",
    "            \r\n",
    "        cv2.rectangle(image, (0,0), (640, 40), (245, 117, 16), -1)\r\n",
    "        cv2.putText(image, ' '.join(sentence), (3,30), \r\n",
    "                       cv2.FONT_HERSHEY_SIMPLEX, 1, (255, 255, 255), 2, cv2.LINE_AA)\r\n",
    "        \r\n",
    "        # Show to screen\r\n",
    "        cv2.imshow('LIVE SIGN DETECTION', image)\r\n",
    "\r\n",
    "        # Break gracefully\r\n",
    "        if cv2.waitKey(10) & 0xFF == ord('q'):\r\n",
    "            break\r\n",
    "    cap.release()\r\n",
    "    cv2.destroyAllWindows()"
   ],
   "outputs": [],
   "metadata": {}
  },
  {
   "cell_type": "markdown",
   "source": [],
   "metadata": {}
  }
 ],
 "metadata": {
  "orig_nbformat": 4,
  "language_info": {
   "name": "python",
   "version": "3.9.7",
   "mimetype": "text/x-python",
   "codemirror_mode": {
    "name": "ipython",
    "version": 3
   },
   "pygments_lexer": "ipython3",
   "nbconvert_exporter": "python",
   "file_extension": ".py"
  },
  "kernelspec": {
   "name": "python3",
   "display_name": "Python 3.9.7 64-bit ('SIGNS': venv)"
  },
  "interpreter": {
   "hash": "9feeb7f7371f807a028f0bdfb3759fcffffd346dae225c9c27e84c019eb0e436"
  }
 },
 "nbformat": 4,
 "nbformat_minor": 2
}